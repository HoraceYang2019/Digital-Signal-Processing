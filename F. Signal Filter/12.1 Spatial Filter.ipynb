{
 "cells": [
  {
   "cell_type": "markdown",
   "id": "e8e7f62f-ff1a-4cc9-9b53-710245152d09",
   "metadata": {},
   "source": [
    "# <font color='blue'>12.1 Spatial Filtering technique </font>\n",
    "is used directly on pixels of an image. Mask is usually considered to be added in size so that it has a specific center pixel. This mask is moved on the image such that the center of the mask traverses all image pixels.\n"
   ]
  },
  {
   "cell_type": "markdown",
   "id": "210660a0-fc76-4764-8811-e49091ce111e",
   "metadata": {},
   "source": [
    "#### Theory\n",
    "* Neighborhood processing in spatial domain: Here, to modify one pixel, we consider values of the immediate neighboring pixels also. For this purpose, 3X3, 5X5, or 7X7 neighborhood mask can be considered. An example of a 3X3 mask is shown below."
   ]
  },
  {
   "cell_type": "raw",
   "id": "db88778e-8637-42d7-b96d-28a37ce41f4c",
   "metadata": {},
   "source": [
    "f(x-1, y-1) f(x-1, y) f(x-1, y+1)\n",
    "f(x, y-1)   f(x, y)   f(x, y+1)\n",
    "f(x+1, y-1) f(x+1, y) f(x+1, y+1)"
   ]
  },
  {
   "cell_type": "markdown",
   "id": "051132f5-6d51-4c1e-b809-8b2d433c5db4",
   "metadata": {},
   "source": [
    "#### Low Pass filtering: \n",
    "It is also known as the smoothing filter. It removes the high-frequency content from the image. It is also used to blur an image. A low pass averaging filter mask is as shown."
   ]
  },
  {
   "cell_type": "raw",
   "id": "e9c8c301-1409-42f4-8490-bc0664ab9135",
   "metadata": {},
   "source": [
    "1/9 1/9 1/9\n",
    "1/9 1/9 1/9\n",
    "1/9 1/9 1/9"
   ]
  },
  {
   "cell_type": "markdown",
   "id": "5e5e3ea7-bd3f-45a2-8e52-bc63c109ee35",
   "metadata": {},
   "source": [
    "#### High Pass Filtering: \n",
    "It eliminates low-frequency regions while retaining or enhancing the high-frequency components. A high pass filtering mask is as shown."
   ]
  },
  {
   "cell_type": "raw",
   "id": "9bdc45ee-1dee-4e63-b67e-fc4e147e7f01",
   "metadata": {},
   "source": [
    "-1/9 -1/9 -1/9\n",
    "-1/9 8/9 -1/9\n",
    "-1/9 -1/9 -1/9"
   ]
  },
  {
   "cell_type": "code",
   "execution_count": 1,
   "id": "bf1044f2-8199-471c-83c2-2adad22ae68a",
   "metadata": {},
   "outputs": [
    {
     "data": {
      "text/plain": [
       "True"
      ]
     },
     "execution_count": 1,
     "metadata": {},
     "output_type": "execute_result"
    }
   ],
   "source": [
    "import cv2 \n",
    "import numpy as np \n",
    "\t\n",
    "# Read the image\n",
    "data_folder = '.\\\\dataset\\\\'\n",
    "img = cv2.imread(data_folder + 'sample.png', 0) \n",
    "\n",
    "# Obtain number of rows and columns \n",
    "# of the image \n",
    "m, n = img.shape \n",
    "\n",
    "# Develop Averaging filter(3, 3) mask \n",
    "mask = np.ones([3, 3], dtype = int) \n",
    "mask = mask / 9\n",
    "\n",
    "# Convolve the 3X3 mask over the image \n",
    "img_lp = np.zeros([m, n]) \n",
    "\n",
    "for i in range(1, m-1): \n",
    "\tfor j in range(1, n-1): \n",
    "\t\ttemp = img[i-1, j-1]*mask[0, 0]+img[i-1, j]*mask[0, 1]+img[i-1, j + 1]*mask[0, 2]+img[i, j-1]*mask[1, 0]+ img[i, j]*mask[1, 1]+img[i, j + 1]*mask[1, 2]+img[i + 1, j-1]*mask[2, 0]+img[i + 1, j]*mask[2, 1]+img[i + 1, j + 1]*mask[2, 2] \n",
    "\t\t\n",
    "\t\timg_lp[i, j]= temp \n",
    "\t\t\n",
    "img_lp = img_lp.astype(np.uint8) \n",
    "cv2.imwrite(data_folder +'blurred.tif', img_lp) \n"
   ]
  },
  {
   "cell_type": "code",
   "execution_count": 2,
   "id": "3850ef8b-eb99-46a5-abaa-98bb4aedd9e6",
   "metadata": {},
   "outputs": [
    {
     "data": {
      "text/plain": [
       "True"
      ]
     },
     "execution_count": 2,
     "metadata": {},
     "output_type": "execute_result"
    }
   ],
   "source": [
    "img_ms = np.zeros([m, n]) \n",
    "for i in range(1, m-1): \n",
    "    for j in range(1, n-1): \n",
    "        temp = [img[i-1, j-1], \n",
    "               img[i-1, j], \n",
    "               img[i-1, j + 1], \n",
    "               img[i, j-1], \n",
    "               img[i, j], \n",
    "               img[i, j + 1], \n",
    "               img[i + 1, j-1], \n",
    "               img[i + 1, j], \n",
    "               img[i + 1, j + 1]] \n",
    "          \n",
    "        temp = sorted(temp) \n",
    "        img_ms[i, j]= temp[4] \n",
    "  \n",
    "img_ms = img_ms.astype(np.uint8) \n",
    "cv2.imwrite(data_folder +'median_filtered.png', img_ms) "
   ]
  },
  {
   "cell_type": "code",
   "execution_count": 5,
   "id": "88822de3",
   "metadata": {},
   "outputs": [
    {
     "data": {
      "text/plain": [
       "True"
      ]
     },
     "execution_count": 5,
     "metadata": {},
     "output_type": "execute_result"
    }
   ],
   "source": [
    "# Develop Averaging filter(3, 3) mask \n",
    "mask = np.ones([3, 3], dtype = int) \n",
    "mask = mask / 9 *(-1)\n",
    "mask[1,1] = 8/9\n",
    "\n",
    "# Convolve the 3X3 mask over the image \n",
    "img_hp = np.zeros([m, n]) \n",
    "\n",
    "for i in range(1, m-1): \n",
    "\tfor j in range(1, n-1): \n",
    "\t\ttemp = img_ms[i-1, j-1]*mask[0, 0]+img_ms[i-1, j]*mask[0, 1]+img_ms[i-1, j + 1]*mask[0, 2]+img_ms[i, j-1]*mask[1, 0]+ img_ms[i, j]*mask[1, 1]+img_ms[i, j + 1]*mask[1, 2]+img_ms[i + 1, j-1]*mask[2, 0]+img_ms[i + 1, j]*mask[2, 1]+img_ms[i + 1, j + 1]*mask[2, 2] \n",
    "\t\t\n",
    "\t\timg_hp[i, j]= temp \n",
    "\t\t\n",
    "img_hp = img_hp.astype(np.uint8) \n",
    "cv2.imwrite(data_folder +'Median+Hipass.tif', img_hp) \n"
   ]
  }
 ],
 "metadata": {
  "kernelspec": {
   "display_name": "Python11",
   "language": "python",
   "name": "python3"
  },
  "language_info": {
   "codemirror_mode": {
    "name": "ipython",
    "version": 3
   },
   "file_extension": ".py",
   "mimetype": "text/x-python",
   "name": "python",
   "nbconvert_exporter": "python",
   "pygments_lexer": "ipython3",
   "version": "3.11.9"
  }
 },
 "nbformat": 4,
 "nbformat_minor": 5
}
